{
  "cells": [
    {
      "cell_type": "markdown",
      "metadata": {
        "id": "5zNl1a1r8GSi"
      },
      "source": [
        "\n",
        "## 1. Linear Regression \n"
      ]
    },
    {
      "cell_type": "markdown",
      "metadata": {
        "id": "SpG-PaQ88GSn"
      },
      "source": [
        "## 1.1 Loading and preprocessing Data"
      ]
    },
    {
      "cell_type": "code",
      "execution_count": 146,
      "metadata": {
        "id": "HNEHZer_9zVB"
      },
      "outputs": [],
      "source": [
        "import pandas as pd\n",
        "import numpy as np\n",
        "import sklearn\n",
        "\n",
        "import matplotlib.pyplot as plt\n",
        "%matplotlib inline"
      ]
    },
    {
      "cell_type": "code",
      "execution_count": 147,
      "metadata": {
        "colab": {
          "base_uri": "https://localhost:8080/",
          "height": 407
        },
        "id": "b3H-j5hNfhKZ",
        "outputId": "b54875c0-b1fd-4ec8-bb5b-1b7168235595"
      },
      "outputs": [
        {
          "output_type": "execute_result",
          "data": {
            "text/plain": [
              "                        count         mean          std   min          25%  \\\n",
              "fps_mean             379021.0    35.231127    10.975010  10.0    28.800000   \n",
              "fps_std              379021.0     1.725705     2.505942   0.0     0.316228   \n",
              "rtt_mean             379021.0    49.623858    94.781098   0.0    14.300000   \n",
              "rtt_std              379021.0    12.763672   112.684460   0.0     0.699206   \n",
              "dropped_frames_mean  379021.0     0.180451     1.732890   0.0     0.000000   \n",
              "dropped_frames_std   379021.0     0.469548     3.157866   0.0     0.000000   \n",
              "dropped_frames_max   379021.0     1.450719     9.670928   0.0     0.000000   \n",
              "bitrate_mean         379021.0  7516.585502  6073.992189   0.0  2773.300000   \n",
              "bitrate_std          379021.0  1603.487501  1721.021623   0.0   383.683550   \n",
              "target               379021.0  7525.396231  6070.817736   0.0  2785.000000   \n",
              "\n",
              "                             50%           75%           max  \n",
              "fps_mean               30.000000     43.600000    125.800000  \n",
              "fps_std                 0.942809      2.233582    307.167273  \n",
              "rtt_mean               32.200000     55.900000  12898.400000  \n",
              "rtt_std                 1.433721      4.948625  40721.933293  \n",
              "dropped_frames_mean     0.000000      0.000000    540.000000  \n",
              "dropped_frames_std      0.000000      0.000000    202.385770  \n",
              "dropped_frames_max      0.000000      0.000000    640.000000  \n",
              "bitrate_mean         6287.200000  10187.200000  64913.500000  \n",
              "bitrate_std          1112.710010   2241.848801  26908.532303  \n",
              "target               6296.000000  10192.000000  64913.000000  "
            ],
            "text/html": [
              "\n",
              "  <div id=\"df-c14d019d-f771-4e34-963a-67280a955938\">\n",
              "    <div class=\"colab-df-container\">\n",
              "      <div>\n",
              "<style scoped>\n",
              "    .dataframe tbody tr th:only-of-type {\n",
              "        vertical-align: middle;\n",
              "    }\n",
              "\n",
              "    .dataframe tbody tr th {\n",
              "        vertical-align: top;\n",
              "    }\n",
              "\n",
              "    .dataframe thead th {\n",
              "        text-align: right;\n",
              "    }\n",
              "</style>\n",
              "<table border=\"1\" class=\"dataframe\">\n",
              "  <thead>\n",
              "    <tr style=\"text-align: right;\">\n",
              "      <th></th>\n",
              "      <th>count</th>\n",
              "      <th>mean</th>\n",
              "      <th>std</th>\n",
              "      <th>min</th>\n",
              "      <th>25%</th>\n",
              "      <th>50%</th>\n",
              "      <th>75%</th>\n",
              "      <th>max</th>\n",
              "    </tr>\n",
              "  </thead>\n",
              "  <tbody>\n",
              "    <tr>\n",
              "      <th>fps_mean</th>\n",
              "      <td>379021.0</td>\n",
              "      <td>35.231127</td>\n",
              "      <td>10.975010</td>\n",
              "      <td>10.0</td>\n",
              "      <td>28.800000</td>\n",
              "      <td>30.000000</td>\n",
              "      <td>43.600000</td>\n",
              "      <td>125.800000</td>\n",
              "    </tr>\n",
              "    <tr>\n",
              "      <th>fps_std</th>\n",
              "      <td>379021.0</td>\n",
              "      <td>1.725705</td>\n",
              "      <td>2.505942</td>\n",
              "      <td>0.0</td>\n",
              "      <td>0.316228</td>\n",
              "      <td>0.942809</td>\n",
              "      <td>2.233582</td>\n",
              "      <td>307.167273</td>\n",
              "    </tr>\n",
              "    <tr>\n",
              "      <th>rtt_mean</th>\n",
              "      <td>379021.0</td>\n",
              "      <td>49.623858</td>\n",
              "      <td>94.781098</td>\n",
              "      <td>0.0</td>\n",
              "      <td>14.300000</td>\n",
              "      <td>32.200000</td>\n",
              "      <td>55.900000</td>\n",
              "      <td>12898.400000</td>\n",
              "    </tr>\n",
              "    <tr>\n",
              "      <th>rtt_std</th>\n",
              "      <td>379021.0</td>\n",
              "      <td>12.763672</td>\n",
              "      <td>112.684460</td>\n",
              "      <td>0.0</td>\n",
              "      <td>0.699206</td>\n",
              "      <td>1.433721</td>\n",
              "      <td>4.948625</td>\n",
              "      <td>40721.933293</td>\n",
              "    </tr>\n",
              "    <tr>\n",
              "      <th>dropped_frames_mean</th>\n",
              "      <td>379021.0</td>\n",
              "      <td>0.180451</td>\n",
              "      <td>1.732890</td>\n",
              "      <td>0.0</td>\n",
              "      <td>0.000000</td>\n",
              "      <td>0.000000</td>\n",
              "      <td>0.000000</td>\n",
              "      <td>540.000000</td>\n",
              "    </tr>\n",
              "    <tr>\n",
              "      <th>dropped_frames_std</th>\n",
              "      <td>379021.0</td>\n",
              "      <td>0.469548</td>\n",
              "      <td>3.157866</td>\n",
              "      <td>0.0</td>\n",
              "      <td>0.000000</td>\n",
              "      <td>0.000000</td>\n",
              "      <td>0.000000</td>\n",
              "      <td>202.385770</td>\n",
              "    </tr>\n",
              "    <tr>\n",
              "      <th>dropped_frames_max</th>\n",
              "      <td>379021.0</td>\n",
              "      <td>1.450719</td>\n",
              "      <td>9.670928</td>\n",
              "      <td>0.0</td>\n",
              "      <td>0.000000</td>\n",
              "      <td>0.000000</td>\n",
              "      <td>0.000000</td>\n",
              "      <td>640.000000</td>\n",
              "    </tr>\n",
              "    <tr>\n",
              "      <th>bitrate_mean</th>\n",
              "      <td>379021.0</td>\n",
              "      <td>7516.585502</td>\n",
              "      <td>6073.992189</td>\n",
              "      <td>0.0</td>\n",
              "      <td>2773.300000</td>\n",
              "      <td>6287.200000</td>\n",
              "      <td>10187.200000</td>\n",
              "      <td>64913.500000</td>\n",
              "    </tr>\n",
              "    <tr>\n",
              "      <th>bitrate_std</th>\n",
              "      <td>379021.0</td>\n",
              "      <td>1603.487501</td>\n",
              "      <td>1721.021623</td>\n",
              "      <td>0.0</td>\n",
              "      <td>383.683550</td>\n",
              "      <td>1112.710010</td>\n",
              "      <td>2241.848801</td>\n",
              "      <td>26908.532303</td>\n",
              "    </tr>\n",
              "    <tr>\n",
              "      <th>target</th>\n",
              "      <td>379021.0</td>\n",
              "      <td>7525.396231</td>\n",
              "      <td>6070.817736</td>\n",
              "      <td>0.0</td>\n",
              "      <td>2785.000000</td>\n",
              "      <td>6296.000000</td>\n",
              "      <td>10192.000000</td>\n",
              "      <td>64913.000000</td>\n",
              "    </tr>\n",
              "  </tbody>\n",
              "</table>\n",
              "</div>\n",
              "      <button class=\"colab-df-convert\" onclick=\"convertToInteractive('df-c14d019d-f771-4e34-963a-67280a955938')\"\n",
              "              title=\"Convert this dataframe to an interactive table.\"\n",
              "              style=\"display:none;\">\n",
              "        \n",
              "  <svg xmlns=\"http://www.w3.org/2000/svg\" height=\"24px\"viewBox=\"0 0 24 24\"\n",
              "       width=\"24px\">\n",
              "    <path d=\"M0 0h24v24H0V0z\" fill=\"none\"/>\n",
              "    <path d=\"M18.56 5.44l.94 2.06.94-2.06 2.06-.94-2.06-.94-.94-2.06-.94 2.06-2.06.94zm-11 1L8.5 8.5l.94-2.06 2.06-.94-2.06-.94L8.5 2.5l-.94 2.06-2.06.94zm10 10l.94 2.06.94-2.06 2.06-.94-2.06-.94-.94-2.06-.94 2.06-2.06.94z\"/><path d=\"M17.41 7.96l-1.37-1.37c-.4-.4-.92-.59-1.43-.59-.52 0-1.04.2-1.43.59L10.3 9.45l-7.72 7.72c-.78.78-.78 2.05 0 2.83L4 21.41c.39.39.9.59 1.41.59.51 0 1.02-.2 1.41-.59l7.78-7.78 2.81-2.81c.8-.78.8-2.07 0-2.86zM5.41 20L4 18.59l7.72-7.72 1.47 1.35L5.41 20z\"/>\n",
              "  </svg>\n",
              "      </button>\n",
              "      \n",
              "  <style>\n",
              "    .colab-df-container {\n",
              "      display:flex;\n",
              "      flex-wrap:wrap;\n",
              "      gap: 12px;\n",
              "    }\n",
              "\n",
              "    .colab-df-convert {\n",
              "      background-color: #E8F0FE;\n",
              "      border: none;\n",
              "      border-radius: 50%;\n",
              "      cursor: pointer;\n",
              "      display: none;\n",
              "      fill: #1967D2;\n",
              "      height: 32px;\n",
              "      padding: 0 0 0 0;\n",
              "      width: 32px;\n",
              "    }\n",
              "\n",
              "    .colab-df-convert:hover {\n",
              "      background-color: #E2EBFA;\n",
              "      box-shadow: 0px 1px 2px rgba(60, 64, 67, 0.3), 0px 1px 3px 1px rgba(60, 64, 67, 0.15);\n",
              "      fill: #174EA6;\n",
              "    }\n",
              "\n",
              "    [theme=dark] .colab-df-convert {\n",
              "      background-color: #3B4455;\n",
              "      fill: #D2E3FC;\n",
              "    }\n",
              "\n",
              "    [theme=dark] .colab-df-convert:hover {\n",
              "      background-color: #434B5C;\n",
              "      box-shadow: 0px 1px 3px 1px rgba(0, 0, 0, 0.15);\n",
              "      filter: drop-shadow(0px 1px 2px rgba(0, 0, 0, 0.3));\n",
              "      fill: #FFFFFF;\n",
              "    }\n",
              "  </style>\n",
              "\n",
              "      <script>\n",
              "        const buttonEl =\n",
              "          document.querySelector('#df-c14d019d-f771-4e34-963a-67280a955938 button.colab-df-convert');\n",
              "        buttonEl.style.display =\n",
              "          google.colab.kernel.accessAllowed ? 'block' : 'none';\n",
              "\n",
              "        async function convertToInteractive(key) {\n",
              "          const element = document.querySelector('#df-c14d019d-f771-4e34-963a-67280a955938');\n",
              "          const dataTable =\n",
              "            await google.colab.kernel.invokeFunction('convertToInteractive',\n",
              "                                                     [key], {});\n",
              "          if (!dataTable) return;\n",
              "\n",
              "          const docLinkHtml = 'Like what you see? Visit the ' +\n",
              "            '<a target=\"_blank\" href=https://colab.research.google.com/notebooks/data_table.ipynb>data table notebook</a>'\n",
              "            + ' to learn more about interactive tables.';\n",
              "          element.innerHTML = '';\n",
              "          dataTable['output_type'] = 'display_data';\n",
              "          await google.colab.output.renderOutput(dataTable, element);\n",
              "          const docLink = document.createElement('div');\n",
              "          docLink.innerHTML = docLinkHtml;\n",
              "          element.appendChild(docLink);\n",
              "        }\n",
              "      </script>\n",
              "    </div>\n",
              "  </div>\n",
              "  "
            ]
          },
          "metadata": {},
          "execution_count": 147
        }
      ],
      "source": [
        "bitrate_train_df = pd.read_csv('./bitrate_train.csv', low_memory=False)\n",
        "bitrate_test_df = pd.read_csv('./bitrate_test.csv', low_memory=False)\n",
        "bitrate_train_df.describe().T"
      ]
    },
    {
      "cell_type": "markdown",
      "metadata": {
        "id": "FNQSvLcmfxdy"
      },
      "source": [
        "### 1.1.1 profiling Data"
      ]
    },
    {
      "cell_type": "code",
      "source": [
        "#!pip install https://github.com/pandas-profiling/pandas-profiling/archive/master.zip"
      ],
      "metadata": {
        "id": "111KybV5sRK4"
      },
      "execution_count": null,
      "outputs": []
    },
    {
      "cell_type": "code",
      "execution_count": null,
      "metadata": {
        "id": "6G7itP_xftDJ"
      },
      "outputs": [],
      "source": [
        "#from pandas_profiling import ProfileReport\n",
        "\n",
        "#report = ProfileReport(bitrate_train_df)\n",
        "#report.to_file('bitrate_train_df_profile_report.html')"
      ]
    },
    {
      "cell_type": "markdown",
      "metadata": {
        "id": "Qus2Zi4Qgyk1"
      },
      "source": [
        "### 1.1.2 Remove duplicate"
      ]
    },
    {
      "cell_type": "code",
      "execution_count": 148,
      "metadata": {
        "id": "jFpAWQxVg0ii"
      },
      "outputs": [],
      "source": [
        "bitrate_train_df.drop_duplicates(inplace=True)\n"
      ]
    },
    {
      "cell_type": "markdown",
      "metadata": {
        "id": "5Q4SAr_Wg_lU"
      },
      "source": [
        "### 1.1.3 Remove Outliers"
      ]
    },
    {
      "cell_type": "code",
      "execution_count": 149,
      "metadata": {
        "colab": {
          "base_uri": "https://localhost:8080/"
        },
        "id": "ZRbmP4aJg_B8",
        "outputId": "e0ce90eb-7470-4389-a34e-bc9fd58d443e"
      },
      "outputs": [
        {
          "output_type": "stream",
          "name": "stdout",
          "text": [
            "New Shape:  (375660, 10)\n",
            "Old Shape:  (369097, 10)\n"
          ]
        }
      ],
      "source": [
        "def outlier_removal(dframe,feature):\n",
        "  # Mean\n",
        "  u = np.mean(dframe.loc[dframe.index,feature])\n",
        "  # Std\n",
        "  s = np.std(dframe.loc[dframe.index,feature])\n",
        "  # Upper bound\n",
        "  upper = np.where(dframe.loc[dframe.index,feature]>= (u+3*s))\n",
        "  # Lower bound\n",
        "  lower = np.where(dframe.loc[dframe.index,feature] <= (u-3*s))\n",
        " \n",
        "  dframe.drop(dframe.index[upper[0]], inplace = True)\n",
        "  dframe.drop(dframe.index[lower[0]], inplace = True)\n",
        "\n",
        "  return dframe\n",
        "\n",
        "\n",
        "\n",
        "print(\"New Shape: \", bitrate_train_df.shape)\n",
        "\n",
        "bitrate_train_df=outlier_removal(bitrate_train_df,'target')\n",
        "bitrate_train_df=outlier_removal(bitrate_train_df,'bitrate_mean')\n",
        "\n",
        "print(\"Old Shape: \", bitrate_train_df.shape)\n"
      ]
    },
    {
      "cell_type": "markdown",
      "metadata": {
        "id": "4bsmYcRWe0iy"
      },
      "source": [
        "### 1.1.4 Correlearion matrix"
      ]
    },
    {
      "cell_type": "code",
      "execution_count": 150,
      "metadata": {
        "colab": {
          "base_uri": "https://localhost:8080/",
          "height": 576
        },
        "id": "g_Ipn01_evEW",
        "outputId": "6fa26af0-40e9-4dde-a94d-1fe8a928f0a2"
      },
      "outputs": [
        {
          "output_type": "display_data",
          "data": {
            "text/plain": [
              "<Figure size 864x576 with 2 Axes>"
            ],
            "image/png": "[encoded data removed]"
          },
          "metadata": {
            "needs_background": "light"
          }
        }
      ],
      "source": [
        "f = plt.figure(figsize=(12, 8))\n",
        "plt.matshow(bitrate_train_df.corr(), fignum=f.number)\n",
        "plt.xticks(range(bitrate_train_df.select_dtypes(['number']).shape[1]), bitrate_train_df.select_dtypes(['number']).columns, fontsize=10, rotation=45)\n",
        "plt.yticks(range(bitrate_train_df.select_dtypes(['number']).shape[1]), bitrate_train_df.select_dtypes(['number']).columns, fontsize=10)\n",
        "cb = plt.colorbar()\n",
        "cb.ax.tick_params(labelsize=10)\n"
      ]
    },
    {
      "cell_type": "markdown",
      "metadata": {
        "id": "8xH5TKJGmsW8"
      },
      "source": [
        "## 1.2 Simple linear regression"
      ]
    },
    {
      "cell_type": "markdown",
      "metadata": {
        "id": "GPznOk7bfDgD"
      },
      "source": [
        "### 1.2.1 Features selection"
      ]
    },
    {
      "cell_type": "code",
      "execution_count": 151,
      "metadata": {
        "id": "4O3qlUcXfC6d"
      },
      "outputs": [],
      "source": [
        "X_train=bitrate_train_df[['bitrate_mean']]\n",
        "y_train=bitrate_train_df[[\"target\"]]"
      ]
    },
    {
      "cell_type": "markdown",
      "metadata": {
        "id": "2NLFUnxfdmpz"
      },
      "source": [
        "### 1.2.2 visulaizing data"
      ]
    },
    {
      "cell_type": "code",
      "execution_count": 152,
      "metadata": {
        "colab": {
          "base_uri": "https://localhost:8080/",
          "height": 296
        },
        "id": "eiyWkj5DoqUR",
        "outputId": "bcb05740-1799-4bb2-d770-eaa907e1f998"
      },
      "outputs": [
        {
          "output_type": "display_data",
          "data": {
            "text/plain": [
              "<Figure size 432x288 with 1 Axes>"
            ],
            "image/png": "[encoded data removed]"
          },
          "metadata": {
            "needs_background": "light"
          }
        }
      ],
      "source": [
        "bitrate_train_df.plot(x='bitrate_mean', y='target', style='o')\n",
        "plt.title('Target vs Bitrate mean')\n",
        "plt.xlabel('bitrate_mean')\n",
        "plt.ylabel('target')\n",
        "plt.show()\n"
      ]
    },
    {
      "cell_type": "markdown",
      "metadata": {
        "id": "z8Q-J2gmjZma"
      },
      "source": [
        "### 1.2.3 Model fitting"
      ]
    },
    {
      "cell_type": "code",
      "execution_count": 153,
      "metadata": {
        "colab": {
          "base_uri": "https://localhost:8080/"
        },
        "id": "ovBFDvWwYPgn",
        "outputId": "96eeb4bc-0c7c-444e-ba52-ae0ad9cb4108"
      },
      "outputs": [
        {
          "output_type": "stream",
          "name": "stdout",
          "text": [
            "Model intercept : [431.04533486]\n",
            "Model coefficients : [[0.94247227]]\n"
          ]
        }
      ],
      "source": [
        "from sklearn.model_selection import train_test_split\n",
        "from sklearn.linear_model import LinearRegression\n",
        "from sklearn import metrics\n",
        "\n",
        "regressor = LinearRegression()\n",
        "regressor.fit(X_train, y_train)\n",
        "print(f\"Model intercept : {regressor.intercept_}\")\n",
        "print(f\"Model coefficients : {regressor.coef_}\")\n"
      ]
    },
    {
      "cell_type": "markdown",
      "metadata": {
        "id": "FEY4biJbjsmv"
      },
      "source": [
        "### 1.2.4 Model evaluation"
      ]
    },
    {
      "cell_type": "code",
      "execution_count": 154,
      "metadata": {
        "colab": {
          "base_uri": "https://localhost:8080/"
        },
        "id": "m9k3shYks7HR",
        "outputId": "21961a82-8424-419e-8b1e-6eaff4bd6eca"
      },
      "outputs": [
        {
          "output_type": "stream",
          "name": "stdout",
          "text": [
            "Mean Absolute Error: 1079.375235271045\n",
            "Mean Squared Error: 3825402.5368750934\n",
            "Root Mean Squared Error: 1955.863629416707\n",
            "R2 score on test:  0.8927277008974488\n",
            "R2 score on train:  0.8826850962657488\n"
          ]
        }
      ],
      "source": [
        "from sklearn.model_selection import train_test_split\n",
        "from sklearn.linear_model import LinearRegression\n",
        "from sklearn import metrics\n",
        "from sklearn.metrics import r2_score\n",
        "\n",
        "\n",
        "X_test=bitrate_test_df[['bitrate_mean']]\n",
        "y_test=bitrate_test_df[['target']]\n",
        "\n",
        "y_pred = regressor.predict(X_test)\n",
        "\n",
        "print('Mean Absolute Error:', metrics.mean_absolute_error(y_test, y_pred))\n",
        "print('Mean Squared Error:', metrics.mean_squared_error(y_test, y_pred))\n",
        "print('Root Mean Squared Error:', np.sqrt(metrics.mean_squared_error(y_test, y_pred)))\n",
        "print('R2 score on test: ', r2_score(y_test, y_pred))\n",
        "print('R2 score on train: ', r2_score(y_train, regressor.predict(X_train)))"
      ]
    },
    {
      "cell_type": "markdown",
      "metadata": {
        "id": "Fe9KhRe7j5No"
      },
      "source": [
        "## 1.3 Multiple Linear Regression"
      ]
    },
    {
      "cell_type": "markdown",
      "source": [
        "### 1.3.1 Remove Outliers"
      ],
      "metadata": {
        "id": "wpfsf2M26N-i"
      }
    },
    {
      "cell_type": "code",
      "source": [
        "def outlier_removal(dframe,feature):\n",
        "  # Mean\n",
        "  u = np.mean(dframe.loc[dframe.index,feature])\n",
        "  # Std\n",
        "  s = np.std(dframe.loc[dframe.index,feature])\n",
        "  # Upper bound\n",
        "  upper = np.where(dframe.loc[dframe.index,feature]>= (u+3*s))\n",
        "  # Lower bound\n",
        "  lower = np.where(dframe.loc[dframe.index,feature] <= (u-3*s))\n",
        " \n",
        "  dframe.drop(dframe.index[upper[0]], inplace = True)\n",
        "  dframe.drop(dframe.index[lower[0]], inplace = True)\n",
        "\n",
        "  return dframe\n",
        "\n",
        "\n",
        "\n",
        "print(\"New Shape: \", bitrate_train_df.shape)\n",
        "\n",
        "bitrate_train_df=outlier_removal(bitrate_train_df,'target')\n",
        "bitrate_train_df=outlier_removal(bitrate_train_df,'bitrate_mean')\n",
        "bitrate_train_df=outlier_removal(bitrate_train_df,'bitrate_std')\n",
        "bitrate_train_df=outlier_removal(bitrate_train_df,'fps_mean')\n",
        "bitrate_train_df=outlier_removal(bitrate_train_df,'fps_std')\n",
        "\n",
        "\n",
        "print(\"Old Shape: \", bitrate_train_df.shape)\n"
      ],
      "metadata": {
        "colab": {
          "base_uri": "https://localhost:8080/"
        },
        "id": "QqTL1zCi4_Ic",
        "outputId": "8f54db36-af17-43b1-f8f6-594bc1e1ffad"
      },
      "execution_count": 160,
      "outputs": [
        {
          "output_type": "stream",
          "name": "stdout",
          "text": [
            "New Shape:  (352637, 10)\n",
            "Old Shape:  (339500, 10)\n"
          ]
        }
      ]
    },
    {
      "cell_type": "markdown",
      "source": [
        "### 1.3.2 feautres selection and model fitting"
      ],
      "metadata": {
        "id": "gVCAnWIy6aEm"
      }
    },
    {
      "cell_type": "code",
      "execution_count": 161,
      "metadata": {
        "colab": {
          "base_uri": "https://localhost:8080/"
        },
        "id": "NDkyQQIykkaC",
        "outputId": "21ba90bd-8f0b-4f71-c7b8-2a0857351fab"
      },
      "outputs": [
        {
          "output_type": "stream",
          "name": "stdout",
          "text": [
            "Model intercept : [299.91185582]\n",
            "Model coefficients : [[ 0.28570041 13.51336422  0.9324757   0.11333692]]\n"
          ]
        }
      ],
      "source": [
        "X_train = bitrate_train_df.drop(['rtt_mean','rtt_std','dropped_frames_mean','dropped_frames_max','dropped_frames_std','target'], axis=1)\n",
        "\n",
        "y_train=bitrate_train_df[[\"target\"]]\n",
        "\n",
        "regressor = LinearRegression()\n",
        "regressor.fit(X_train, y_train)\n",
        "print(f\"Model intercept : {regressor.intercept_}\")\n",
        "print(f\"Model coefficients : {regressor.coef_}\")\n"
      ]
    },
    {
      "cell_type": "markdown",
      "metadata": {
        "id": "XXhLZMgtkmtz"
      },
      "source": [
        "### 1.3.3 model evaluation"
      ]
    },
    {
      "cell_type": "code",
      "execution_count": 162,
      "metadata": {
        "colab": {
          "base_uri": "https://localhost:8080/"
        },
        "id": "L-oBw0VfC5Ks",
        "outputId": "86c68881-4b03-47a0-9c55-e9cd440fcd1b"
      },
      "outputs": [
        {
          "output_type": "stream",
          "name": "stdout",
          "text": [
            "Mean Absolute Error: 1068.3056587021638\n",
            "Mean Squared Error: 3801849.7391778133\n",
            "Root Mean Squared Error: 1949.8332593270156\n",
            "R2 score on test:  0.8933881706741402\n",
            "R2 score on train:  0.904258899356271\n"
          ]
        }
      ],
      "source": [
        "from sklearn.metrics import r2_score\n",
        "\n",
        "\n",
        "X_test = bitrate_test_df.drop(['rtt_mean','rtt_std','dropped_frames_mean','dropped_frames_max','dropped_frames_std','target'], axis=1)\n",
        "y_test = bitrate_test_df[['target']]\n",
        "\n",
        "\n",
        "y_pred = regressor.predict(X_test)\n",
        "\n",
        "\n",
        "print('Mean Absolute Error:', metrics.mean_absolute_error(y_test, y_pred))\n",
        "print('Mean Squared Error:', metrics.mean_squared_error(y_test, y_pred))\n",
        "print('Root Mean Squared Error:', np.sqrt(metrics.mean_squared_error(y_test, y_pred)))\n",
        "\n",
        "print('R2 score on test: ', r2_score(y_test, y_pred))\n",
        "print('R2 score on train: ', r2_score(y_train, regressor.predict(X_train)))"
      ]
    },
    {
      "cell_type": "markdown",
      "metadata": {
        "id": "vU7HaWuSFUj0"
      },
      "source": [
        "##1.4 polynomial Regression\n"
      ]
    },
    {
      "cell_type": "code",
      "execution_count": 163,
      "metadata": {
        "id": "afr0lf74FT-v"
      },
      "outputs": [],
      "source": [
        "from sklearn.pipeline import Pipeline\n",
        "from sklearn.preprocessing import PolynomialFeatures \n",
        "from sklearn.linear_model import LinearRegression\n",
        "from sklearn.model_selection import cross_val_score\n",
        "\n"
      ]
    },
    {
      "cell_type": "code",
      "execution_count": 164,
      "metadata": {
        "colab": {
          "base_uri": "https://localhost:8080/"
        },
        "id": "GLFrQ_TFF3UR",
        "outputId": "7b4977dd-55f1-423f-957e-64a7ca1ca2a4"
      },
      "outputs": [
        {
          "output_type": "stream",
          "name": "stdout",
          "text": [
            "Mean Absolute Error: 1068.305658702165\n",
            "Mean Squared Error: 3801849.739177817\n",
            "Root Mean Squared Error: 1949.8332593270168\n",
            "Degree 1\n",
            "MSE = 2620517.233274005(+/- 246802.8723329472)\n",
            "Mean Absolute Error: 1055.408723984625\n",
            "Mean Squared Error: 3888569.0275327847\n",
            "Root Mean Squared Error: 1971.9454930430468\n",
            "Degree 2\n",
            "MSE = 2598439.281290308(+/- 241604.15359259743)\n",
            "Mean Absolute Error: 12105.592966576623\n",
            "Mean Squared Error: 268665940421.7162\n",
            "Root Mean Squared Error: 518329.9532360793\n",
            "Degree 5\n",
            "MSE = 4845041.750812905(+/- 2092510.5665821438)\n"
          ]
        }
      ],
      "source": [
        "from sklearn.preprocessing import PolynomialFeatures\n",
        "from sklearn.linear_model import LinearRegression\n",
        "\n",
        "\n",
        "degrees = [1, 2, 5]\n",
        "\n",
        "X_train = bitrate_train_df.drop(['rtt_mean','rtt_std','dropped_frames_mean','dropped_frames_max','dropped_frames_std','target'], axis=1)\n",
        "\n",
        "y_train=bitrate_train_df[[\"target\"]]\n",
        "\n",
        "X_test = bitrate_test_df.drop(['rtt_mean','rtt_std','dropped_frames_mean','dropped_frames_max','dropped_frames_std','target'], axis=1)\n",
        "y_test = bitrate_test_df[['target']]\n",
        "\n",
        "for i in range(len(degrees)):\n",
        "\n",
        "    polynomial_features = PolynomialFeatures(degree=degrees[i])\n",
        "    linear_regression = LinearRegression()\n",
        "    pipeline = Pipeline([(\"polynomial_features\", polynomial_features),\n",
        "                         (\"linear_regression\", linear_regression)])\n",
        "    pipeline.fit(X_train, y_train)\n",
        "\n",
        "    # Evaluate the models using crossvalidation\n",
        "    scores = cross_val_score(pipeline,X_train, y_train,\n",
        "                             scoring=\"neg_mean_squared_error\", cv=10)\n",
        "\n",
        "    y_pred=pipeline.predict(X_test)\n",
        "    print('Mean Absolute Error:', metrics.mean_absolute_error(y_test, y_pred))\n",
        "    print('Mean Squared Error:', metrics.mean_squared_error(y_test, y_pred))\n",
        "    print('Root Mean Squared Error:', np.sqrt(metrics.mean_squared_error(y_test, y_pred)))\n",
        "    print(\"Degree {}\\nMSE = {:}(+/- {:})\".format(\n",
        "        degrees[i], -scores.mean(), scores.std()))\n",
        "\n"
      ]
    },
    {
      "cell_type": "markdown",
      "metadata": {
        "id": "98FQEiSRfcQy"
      },
      "source": [
        "## 1.5 Multiple linear regression with regulization"
      ]
    },
    {
      "cell_type": "code",
      "execution_count": 165,
      "metadata": {
        "colab": {
          "base_uri": "https://localhost:8080/"
        },
        "id": "Cww7EnR7fbeP",
        "outputId": "c94c289e-c385-4061-ddc3-9ba55783d359"
      },
      "outputs": [
        {
          "output_type": "stream",
          "name": "stdout",
          "text": [
            "Lasso coef  [ 0.17979518 13.10365651  0.93285779  0.11224   ]\n"
          ]
        }
      ],
      "source": [
        "from sklearn.linear_model import Lasso\n",
        "\n",
        "X_train = bitrate_train_df.drop(['rtt_mean','rtt_std','dropped_frames_mean','dropped_frames_max','dropped_frames_std','target'], axis=1)\n",
        "\n",
        "y_train=bitrate_train_df[[\"target\"]]\n",
        "\n",
        "X_test = bitrate_test_df.drop(['rtt_mean','rtt_std','dropped_frames_mean','dropped_frames_max','dropped_frames_std','target'], axis=1)\n",
        "\n",
        "\n",
        "y_test=bitrate_test_df[['target']]\n",
        "\n",
        "X_train, x_val, y_train, y_val = train_test_split(X_train, y_train, test_size=1/8, random_state=123)\n",
        "\n",
        "lasso = Lasso()\n",
        "lasso.fit(X_train, y_train)\n",
        "\n",
        "\n",
        "print('Lasso coef ', lasso.coef_)\n"
      ]
    },
    {
      "cell_type": "code",
      "execution_count": 166,
      "metadata": {
        "colab": {
          "base_uri": "https://localhost:8080/",
          "height": 313
        },
        "id": "gDADt8RWhdMW",
        "outputId": "dbb61846-c944-42de-81f4-b1f75b127ca4"
      },
      "outputs": [
        {
          "output_type": "display_data",
          "data": {
            "text/plain": [
              "<Figure size 432x288 with 1 Axes>"
            ],
            "image/png": "[encoded data removed]"
          },
          "metadata": {
            "needs_background": "light"
          }
        },
        {
          "output_type": "stream",
          "name": "stdout",
          "text": [
            "Best value of alpha: 0.3\n"
          ]
        }
      ],
      "source": [
        "import matplotlib.pylab as plt\n",
        "import numpy as np\n",
        "from sklearn.metrics import mean_squared_error\n",
        "%matplotlib inline\n",
        "\n",
        "alphas = [2.2, 2, 1.5, 1.3, 1.2, 1.1, 1, 0.3, 0.1]\n",
        "losses = []\n",
        "for alpha in alphas:\n",
        "    model = Lasso(alpha = alpha).fit(X_train, y_train)\n",
        "    mse = mean_squared_error(model.predict(x_val),y_val)\n",
        "    losses.append(mse)\n",
        "plt.plot(alphas, losses)\n",
        "plt.title(\"Lasso alpha value selection\")\n",
        "plt.xlabel(\"alpha\")\n",
        "plt.ylabel(\"Mean squared error\")\n",
        "plt.show()\n",
        "\n",
        "best_alpha = alphas[np.argmin(losses)]\n",
        "print(\"Best value of alpha:\", best_alpha)\n"
      ]
    },
    {
      "cell_type": "code",
      "execution_count": 168,
      "metadata": {
        "colab": {
          "base_uri": "https://localhost:8080/"
        },
        "id": "0wjabsIzhfo5",
        "outputId": "e67c1ae9-7bb2-4ff9-e551-989f3de8f61e"
      },
      "outputs": [
        {
          "output_type": "stream",
          "name": "stdout",
          "text": [
            "Mean Absolute Error: 1067.959465665806\n",
            "Mean Squared Error: 3801890.126734312\n",
            "Root Mean Squared Error: 1949.843615968807\n"
          ]
        }
      ],
      "source": [
        "lasso = Lasso(best_alpha)\n",
        "lasso.fit(X_train, y_train)\n",
        "y_pred = lasso.predict(X_test)\n",
        "print('Mean Absolute Error:', metrics.mean_absolute_error(y_test, y_pred))\n",
        "print('Mean Squared Error:', metrics.mean_squared_error(y_test, y_pred))\n",
        "print('Root Mean Squared Error:', np.sqrt(metrics.mean_squared_error(y_test, y_pred)))"
      ]
    },
    {
      "cell_type": "markdown",
      "metadata": {
        "id": "-6ZnzMUujhj6"
      },
      "source": [
        "##2 Logistic Regression"
      ]
    },
    {
      "cell_type": "markdown",
      "metadata": {
        "id": "0hxrWEDvjlpA"
      },
      "source": [
        "## 2.1 reading data"
      ]
    },
    {
      "cell_type": "code",
      "execution_count": 196,
      "metadata": {
        "id": "f9EeTZhAk-YO"
      },
      "outputs": [],
      "source": [
        "import pandas as pd\n",
        "import numpy as np\n",
        "import sklearn\n",
        "\n",
        "import matplotlib.pyplot as plt\n",
        "%matplotlib inline"
      ]
    },
    {
      "cell_type": "code",
      "execution_count": 197,
      "metadata": {
        "id": "G24qqCdFjpnf",
        "colab": {
          "base_uri": "https://localhost:8080/",
          "height": 363
        },
        "outputId": "34031740-0a98-4292-a910-54c367d8eb58"
      },
      "outputs": [
        {
          "output_type": "execute_result",
          "data": {
            "text/plain": [
              "                        count           mean           std  min        25%  \\\n",
              "fps_mean             373142.0      35.069812  1.139201e+01  0.0  28.200000   \n",
              "fps_std              373142.0       2.489203  3.805238e+00  0.0   0.421637   \n",
              "fps_lags             373142.0       0.097370  5.675634e-01  0.0   0.000000   \n",
              "rtt_mean             373142.0      57.281921  1.356887e+02  0.0  16.000000   \n",
              "rtt_std              373142.0      21.229666  1.631101e+02  0.0   0.788811   \n",
              "dropped_frames_mean  373142.0  346235.005845  2.030192e+07  0.0   0.000000   \n",
              "dropped_frames_std   373142.0  149161.674525  9.614595e+06  0.0   0.000000   \n",
              "dropped_frames_max   373142.0  522273.665476  2.749080e+07  0.0   0.000000   \n",
              "auto_fec_mean        373142.0      51.952779  3.550680e+01  0.0  50.000000   \n",
              "stream_quality       373142.0       0.063927  2.446239e-01  0.0   0.000000   \n",
              "\n",
              "                           50%        75%           max  \n",
              "fps_mean             30.000000  44.100000  1.271000e+02  \n",
              "fps_std               1.229273   2.836273  3.125408e+02  \n",
              "fps_lags              0.000000   0.000000  1.000000e+01  \n",
              "rtt_mean             34.000000  59.200000  1.289840e+04  \n",
              "rtt_std               1.712698   6.196773  4.072193e+04  \n",
              "dropped_frames_mean   0.000000   0.000000  2.097289e+09  \n",
              "dropped_frames_std    0.000000   0.000000  9.963751e+08  \n",
              "dropped_frames_max    0.000000   0.000000  2.097289e+09  \n",
              "auto_fec_mean        50.000000  50.000000  2.500000e+02  \n",
              "stream_quality        0.000000   0.000000  1.000000e+00  "
            ],
            "text/html": [
              "\n",
              "  <div id=\"df-32b20c8d-788d-4716-a459-e6c1cccdec6a\">\n",
              "    <div class=\"colab-df-container\">\n",
              "      <div>\n",
              "<style scoped>\n",
              "    .dataframe tbody tr th:only-of-type {\n",
              "        vertical-align: middle;\n",
              "    }\n",
              "\n",
              "    .dataframe tbody tr th {\n",
              "        vertical-align: top;\n",
              "    }\n",
              "\n",
              "    .dataframe thead th {\n",
              "        text-align: right;\n",
              "    }\n",
              "</style>\n",
              "<table border=\"1\" class=\"dataframe\">\n",
              "  <thead>\n",
              "    <tr style=\"text-align: right;\">\n",
              "      <th></th>\n",
              "      <th>count</th>\n",
              "      <th>mean</th>\n",
              "      <th>std</th>\n",
              "      <th>min</th>\n",
              "      <th>25%</th>\n",
              "      <th>50%</th>\n",
              "      <th>75%</th>\n",
              "      <th>max</th>\n",
              "    </tr>\n",
              "  </thead>\n",
              "  <tbody>\n",
              "    <tr>\n",
              "      <th>fps_mean</th>\n",
              "      <td>373142.0</td>\n",
              "      <td>35.069812</td>\n",
              "      <td>1.139201e+01</td>\n",
              "      <td>0.0</td>\n",
              "      <td>28.200000</td>\n",
              "      <td>30.000000</td>\n",
              "      <td>44.100000</td>\n",
              "      <td>1.271000e+02</td>\n",
              "    </tr>\n",
              "    <tr>\n",
              "      <th>fps_std</th>\n",
              "      <td>373142.0</td>\n",
              "      <td>2.489203</td>\n",
              "      <td>3.805238e+00</td>\n",
              "      <td>0.0</td>\n",
              "      <td>0.421637</td>\n",
              "      <td>1.229273</td>\n",
              "      <td>2.836273</td>\n",
              "      <td>3.125408e+02</td>\n",
              "    </tr>\n",
              "    <tr>\n",
              "      <th>fps_lags</th>\n",
              "      <td>373142.0</td>\n",
              "      <td>0.097370</td>\n",
              "      <td>5.675634e-01</td>\n",
              "      <td>0.0</td>\n",
              "      <td>0.000000</td>\n",
              "      <td>0.000000</td>\n",
              "      <td>0.000000</td>\n",
              "      <td>1.000000e+01</td>\n",
              "    </tr>\n",
              "    <tr>\n",
              "      <th>rtt_mean</th>\n",
              "      <td>373142.0</td>\n",
              "      <td>57.281921</td>\n",
              "      <td>1.356887e+02</td>\n",
              "      <td>0.0</td>\n",
              "      <td>16.000000</td>\n",
              "      <td>34.000000</td>\n",
              "      <td>59.200000</td>\n",
              "      <td>1.289840e+04</td>\n",
              "    </tr>\n",
              "    <tr>\n",
              "      <th>rtt_std</th>\n",
              "      <td>373142.0</td>\n",
              "      <td>21.229666</td>\n",
              "      <td>1.631101e+02</td>\n",
              "      <td>0.0</td>\n",
              "      <td>0.788811</td>\n",
              "      <td>1.712698</td>\n",
              "      <td>6.196773</td>\n",
              "      <td>4.072193e+04</td>\n",
              "    </tr>\n",
              "    <tr>\n",
              "      <th>dropped_frames_mean</th>\n",
              "      <td>373142.0</td>\n",
              "      <td>346235.005845</td>\n",
              "      <td>2.030192e+07</td>\n",
              "      <td>0.0</td>\n",
              "      <td>0.000000</td>\n",
              "      <td>0.000000</td>\n",
              "      <td>0.000000</td>\n",
              "      <td>2.097289e+09</td>\n",
              "    </tr>\n",
              "    <tr>\n",
              "      <th>dropped_frames_std</th>\n",
              "      <td>373142.0</td>\n",
              "      <td>149161.674525</td>\n",
              "      <td>9.614595e+06</td>\n",
              "      <td>0.0</td>\n",
              "      <td>0.000000</td>\n",
              "      <td>0.000000</td>\n",
              "      <td>0.000000</td>\n",
              "      <td>9.963751e+08</td>\n",
              "    </tr>\n",
              "    <tr>\n",
              "      <th>dropped_frames_max</th>\n",
              "      <td>373142.0</td>\n",
              "      <td>522273.665476</td>\n",
              "      <td>2.749080e+07</td>\n",
              "      <td>0.0</td>\n",
              "      <td>0.000000</td>\n",
              "      <td>0.000000</td>\n",
              "      <td>0.000000</td>\n",
              "      <td>2.097289e+09</td>\n",
              "    </tr>\n",
              "    <tr>\n",
              "      <th>auto_fec_mean</th>\n",
              "      <td>373142.0</td>\n",
              "      <td>51.952779</td>\n",
              "      <td>3.550680e+01</td>\n",
              "      <td>0.0</td>\n",
              "      <td>50.000000</td>\n",
              "      <td>50.000000</td>\n",
              "      <td>50.000000</td>\n",
              "      <td>2.500000e+02</td>\n",
              "    </tr>\n",
              "    <tr>\n",
              "      <th>stream_quality</th>\n",
              "      <td>373142.0</td>\n",
              "      <td>0.063927</td>\n",
              "      <td>2.446239e-01</td>\n",
              "      <td>0.0</td>\n",
              "      <td>0.000000</td>\n",
              "      <td>0.000000</td>\n",
              "      <td>0.000000</td>\n",
              "      <td>1.000000e+00</td>\n",
              "    </tr>\n",
              "  </tbody>\n",
              "</table>\n",
              "</div>\n",
              "      <button class=\"colab-df-convert\" onclick=\"convertToInteractive('df-32b20c8d-788d-4716-a459-e6c1cccdec6a')\"\n",
              "              title=\"Convert this dataframe to an interactive table.\"\n",
              "              style=\"display:none;\">\n",
              "        \n",
              "  <svg xmlns=\"http://www.w3.org/2000/svg\" height=\"24px\"viewBox=\"0 0 24 24\"\n",
              "       width=\"24px\">\n",
              "    <path d=\"M0 0h24v24H0V0z\" fill=\"none\"/>\n",
              "    <path d=\"M18.56 5.44l.94 2.06.94-2.06 2.06-.94-2.06-.94-.94-2.06-.94 2.06-2.06.94zm-11 1L8.5 8.5l.94-2.06 2.06-.94-2.06-.94L8.5 2.5l-.94 2.06-2.06.94zm10 10l.94 2.06.94-2.06 2.06-.94-2.06-.94-.94-2.06-.94 2.06-2.06.94z\"/><path d=\"M17.41 7.96l-1.37-1.37c-.4-.4-.92-.59-1.43-.59-.52 0-1.04.2-1.43.59L10.3 9.45l-7.72 7.72c-.78.78-.78 2.05 0 2.83L4 21.41c.39.39.9.59 1.41.59.51 0 1.02-.2 1.41-.59l7.78-7.78 2.81-2.81c.8-.78.8-2.07 0-2.86zM5.41 20L4 18.59l7.72-7.72 1.47 1.35L5.41 20z\"/>\n",
              "  </svg>\n",
              "      </button>\n",
              "      \n",
              "  <style>\n",
              "    .colab-df-container {\n",
              "      display:flex;\n",
              "      flex-wrap:wrap;\n",
              "      gap: 12px;\n",
              "    }\n",
              "\n",
              "    .colab-df-convert {\n",
              "      background-color: #E8F0FE;\n",
              "      border: none;\n",
              "      border-radius: 50%;\n",
              "      cursor: pointer;\n",
              "      display: none;\n",
              "      fill: #1967D2;\n",
              "      height: 32px;\n",
              "      padding: 0 0 0 0;\n",
              "      width: 32px;\n",
              "    }\n",
              "\n",
              "    .colab-df-convert:hover {\n",
              "      background-color: #E2EBFA;\n",
              "      box-shadow: 0px 1px 2px rgba(60, 64, 67, 0.3), 0px 1px 3px 1px rgba(60, 64, 67, 0.15);\n",
              "      fill: #174EA6;\n",
              "    }\n",
              "\n",
              "    [theme=dark] .colab-df-convert {\n",
              "      background-color: #3B4455;\n",
              "      fill: #D2E3FC;\n",
              "    }\n",
              "\n",
              "    [theme=dark] .colab-df-convert:hover {\n",
              "      background-color: #434B5C;\n",
              "      box-shadow: 0px 1px 3px 1px rgba(0, 0, 0, 0.15);\n",
              "      filter: drop-shadow(0px 1px 2px rgba(0, 0, 0, 0.3));\n",
              "      fill: #FFFFFF;\n",
              "    }\n",
              "  </style>\n",
              "\n",
              "      <script>\n",
              "        const buttonEl =\n",
              "          document.querySelector('#df-32b20c8d-788d-4716-a459-e6c1cccdec6a button.colab-df-convert');\n",
              "        buttonEl.style.display =\n",
              "          google.colab.kernel.accessAllowed ? 'block' : 'none';\n",
              "\n",
              "        async function convertToInteractive(key) {\n",
              "          const element = document.querySelector('#df-32b20c8d-788d-4716-a459-e6c1cccdec6a');\n",
              "          const dataTable =\n",
              "            await google.colab.kernel.invokeFunction('convertToInteractive',\n",
              "                                                     [key], {});\n",
              "          if (!dataTable) return;\n",
              "\n",
              "          const docLinkHtml = 'Like what you see? Visit the ' +\n",
              "            '<a target=\"_blank\" href=https://colab.research.google.com/notebooks/data_table.ipynb>data table notebook</a>'\n",
              "            + ' to learn more about interactive tables.';\n",
              "          element.innerHTML = '';\n",
              "          dataTable['output_type'] = 'display_data';\n",
              "          await google.colab.output.renderOutput(dataTable, element);\n",
              "          const docLink = document.createElement('div');\n",
              "          docLink.innerHTML = docLinkHtml;\n",
              "          element.appendChild(docLink);\n",
              "        }\n",
              "      </script>\n",
              "    </div>\n",
              "  </div>\n",
              "  "
            ]
          },
          "metadata": {},
          "execution_count": 197
        }
      ],
      "source": [
        "train_data_df = pd.read_csv('./train_data.csv')\n",
        "test_data_df = pd.read_csv('./test_data.csv')\n",
        "train_data_df.drop_duplicates(inplace=True)\n",
        "train_data_df.describe().T"
      ]
    },
    {
      "cell_type": "markdown",
      "metadata": {
        "id": "j5MPutmLj157"
      },
      "source": [
        "##2.2 profiling"
      ]
    },
    {
      "cell_type": "code",
      "execution_count": null,
      "metadata": {
        "id": "RZloRdCpkrMd"
      },
      "outputs": [],
      "source": [
        "# !pip uninstall pandas-profiling"
      ]
    },
    {
      "cell_type": "code",
      "execution_count": null,
      "metadata": {
        "colab": {
          "background_save": true
        },
        "id": "5vrYPRIQkCWJ"
      },
      "outputs": [],
      "source": [
        "#!pip install https://github.com/pandas-profiling/pandas-profiling/archive/master.zip"
      ]
    },
    {
      "cell_type": "code",
      "execution_count": null,
      "metadata": {
        "id": "fx51IsGVj4Wx"
      },
      "outputs": [],
      "source": [
        "#from pandas_profiling import ProfileReport\n",
        "\n",
        "#report = ProfileReport(train_data_df)\n",
        "#report.to_file('train_data_df.html')"
      ]
    },
    {
      "cell_type": "markdown",
      "metadata": {
        "id": "2uQivz6sqyL2"
      },
      "source": [
        "install category_encoders"
      ]
    },
    {
      "cell_type": "code",
      "execution_count": null,
      "metadata": {
        "id": "Nith0_1Uw0WG"
      },
      "outputs": [],
      "source": [
        "#pip install category_encoders"
      ]
    },
    {
      "cell_type": "markdown",
      "metadata": {
        "id": "z7wfwi8PTybn"
      },
      "source": [
        "## 2.3 PreProcessing"
      ]
    },
    {
      "cell_type": "markdown",
      "metadata": {
        "id": "iDdud66TKZjZ"
      },
      "source": [
        "### 2.3.1 Correlation Matrix"
      ]
    },
    {
      "cell_type": "code",
      "execution_count": 198,
      "metadata": {
        "colab": {
          "base_uri": "https://localhost:8080/",
          "height": 577
        },
        "id": "zJlranP2CgoE",
        "outputId": "b6073fbc-c874-4b18-c4f5-bb250ebe89f9"
      },
      "outputs": [
        {
          "output_type": "display_data",
          "data": {
            "text/plain": [
              "<Figure size 864x576 with 2 Axes>"
            ],
            "image/png": "[encoded data removed]"
          },
          "metadata": {
            "needs_background": "light"
          }
        }
      ],
      "source": [
        "f = plt.figure(figsize=(12, 8))\n",
        "plt.matshow(train_data_df.corr(), fignum=f.number)\n",
        "plt.xticks(range(train_data_df.select_dtypes(['number']).shape[1]), train_data_df.select_dtypes(['number']).columns, fontsize=10, rotation=45)\n",
        "plt.yticks(range(train_data_df.select_dtypes(['number']).shape[1]), train_data_df.select_dtypes(['number']).columns, fontsize=10)\n",
        "cb = plt.colorbar()\n",
        "cb.ax.tick_params(labelsize=10)"
      ]
    },
    {
      "cell_type": "markdown",
      "metadata": {
        "id": "utBoaOh-a4VW"
      },
      "source": [
        "### 2.3.2 balancing data\n",
        "up sampling the small group upto the large group of data"
      ]
    },
    {
      "cell_type": "code",
      "execution_count": 192,
      "metadata": {
        "id": "QSLuXs48a7WH"
      },
      "outputs": [],
      "source": [
        "train_data_df_0 = train_data_df[train_data_df['stream_quality'] == 0]\n",
        "train_data_df_1 = train_data_df[train_data_df['stream_quality'] == 1]\n",
        "\n",
        "# up-sampling the data\n",
        "train_data_df_1_over = train_data_df_1.sample(len(train_data_df_0.index), replace=True)\n",
        "\n",
        "train_data_df = pd.concat([train_data_df_0, train_data_df_1_over], axis=0)\n"
      ]
    },
    {
      "cell_type": "markdown",
      "metadata": {
        "id": "jzZgGg6NrNag"
      },
      "source": [
        "###2.3.3 Feature Selection\n",
        "select the corrlected features with the target (using the correlation matrix and the profiling)"
      ]
    },
    {
      "cell_type": "code",
      "execution_count": 199,
      "metadata": {
        "id": "hc0rg2IAqw9r"
      },
      "outputs": [],
      "source": [
        "from sklearn.impute import SimpleImputer\n",
        "from category_encoders import OneHotEncoder\n",
        "from sklearn.preprocessing import MinMaxScaler\n",
        "from sklearn.model_selection import train_test_split\n",
        "\n",
        "\n",
        "\n",
        "x_train=train_data_df.drop(['fps_mean','rtt_mean','rtt_std','auto_fec_mean'], axis = 1)\n",
        "\n",
        "x_test=test_data_df.drop(['fps_mean','rtt_mean','rtt_std','auto_fec_mean'], axis = 1)\n"
      ]
    },
    {
      "cell_type": "markdown",
      "metadata": {
        "id": "nqolrENjdhdI"
      },
      "source": [
        "### 2.3.4 PCA Visualization"
      ]
    },
    {
      "cell_type": "code",
      "execution_count": 174,
      "metadata": {
        "colab": {
          "base_uri": "https://localhost:8080/",
          "height": 289
        },
        "id": "6y2Gja_0FQV4",
        "outputId": "d2af5094-ca38-4cb0-aff5-01e3022ca023"
      },
      "outputs": [
        {
          "output_type": "display_data",
          "data": {
            "text/plain": [
              "<Figure size 432x288 with 1 Axes>"
            ],
            "image/png": "[encoded data removed]"
          },
          "metadata": {
            "needs_background": "light"
          }
        }
      ],
      "source": [
        "\n",
        "from sklearn.decomposition import PCA\n",
        "import plotly.express as px\n",
        "\n",
        "X = x_train[['fps_std', 'fps_lags', 'dropped_frames_mean', 'dropped_frames_std','dropped_frames_max']]\n",
        "y=x_train[[\"stream_quality\"]]\n",
        "\n",
        "pca = PCA(n_components=2)\n",
        "components = pca.fit_transform(X,y)\n",
        "\n",
        "y_np = y.values.reshape(-1)\n",
        "x_pca_filter = [y_np[i] == 1 for i in range(len(y_np))]\n",
        "\n",
        "\n",
        "x_pca_good = components[x_pca_filter]\n",
        "\n",
        "\n",
        "x_pca_filter = [y_np[i] == 0 for i in range(len(y_np))]\n",
        "x_pca_bad = components[x_pca_filter]\n",
        "\n",
        "plt.plot(x_pca_good[:, 0], x_pca_good[:, 1], '.', color='b')\n",
        "plt.plot(x_pca_bad[:, 0], x_pca_bad[:, 1], '.', color='r')\n",
        "plt.legend([\"Good Signal\", \"Bad Signal\"])\n",
        "\n",
        "plt.show()\n"
      ]
    },
    {
      "cell_type": "markdown",
      "metadata": {
        "id": "U_FS0ThloiWm"
      },
      "source": [
        "### 2.3.5 Features encodeing and scaling  "
      ]
    },
    {
      "cell_type": "code",
      "execution_count": 200,
      "metadata": {
        "id": "iG5BzmRz44TM"
      },
      "outputs": [],
      "source": [
        "# encode categorical features\n",
        "features_to_encode = ['auto_bitrate_state','auto_fec_state']\n",
        "encoder = OneHotEncoder(cols=features_to_encode)\n",
        "\n",
        "encoder.fit(x_train)\n",
        "\n",
        "x_train_c = encoder.transform(x_train)\n",
        "x_test_c = encoder.transform(x_test)\n",
        "\n",
        "# feature scaling using MinMaxScaler\n",
        "scaler = MinMaxScaler().fit(x_train_c)\n",
        "x_train = pd.DataFrame(scaler.transform(x_train_c), columns=x_train_c.columns)\n",
        "scaler = MinMaxScaler().fit(x_test_c)\n",
        "x_test = pd.DataFrame(scaler.transform(x_test_c), columns=x_test_c.columns)"
      ]
    },
    {
      "cell_type": "markdown",
      "metadata": {
        "id": "EKP8P3nISd3R"
      },
      "source": [
        "### 2.3.6 Remove Outliers "
      ]
    },
    {
      "cell_type": "code",
      "execution_count": 201,
      "metadata": {
        "colab": {
          "base_uri": "https://localhost:8080/"
        },
        "id": "N2US1DhnoggX",
        "outputId": "c528629e-0c22-4407-c3aa-3997fb4f55de"
      },
      "outputs": [
        {
          "output_type": "stream",
          "name": "stdout",
          "text": [
            "Old Shape:  (373142, 11)\n",
            "New Shape:  (341548, 11)\n"
          ]
        }
      ],
      "source": [
        "def outlier_removal(dframe,feature):\n",
        "  \n",
        "  u = np.mean(dframe.loc[dframe.index,feature])\n",
        "  s = np.std(dframe.loc[dframe.index,feature])\n",
        "  upper = np.where(dframe.loc[dframe.index,feature]>= (u+3*s))\n",
        "  lower = np.where(dframe.loc[dframe.index,feature] <= (u-3*s))\n",
        " \n",
        "  dframe.drop(dframe.index[upper[0]], inplace = True)\n",
        "  dframe.drop(dframe.index[lower[0]], inplace = True)\n",
        "  return dframe\n",
        "\n",
        "\n",
        "print(\"Old Shape: \", x_train.shape)\n",
        "x_train=outlier_removal(x_train,'fps_std')\n",
        "x_train=outlier_removal(x_train,'fps_lags')\n",
        "x_train=outlier_removal(x_train,'dropped_frames_mean')\n",
        "x_train=outlier_removal(x_train,'dropped_frames_std')\n",
        "x_train=outlier_removal(x_train,'dropped_frames_max')\n",
        "\n",
        "print(\"New Shape: \", x_train.shape)\n"
      ]
    },
    {
      "cell_type": "markdown",
      "metadata": {
        "id": "10hVU5oAUol8"
      },
      "source": [
        "## 2.4 Logistic Regression"
      ]
    },
    {
      "cell_type": "markdown",
      "metadata": {
        "id": "BBzG9jbH80rV"
      },
      "source": [
        "### 2.4.1 Fitting Logistic Regression"
      ]
    },
    {
      "cell_type": "code",
      "execution_count": 202,
      "metadata": {
        "colab": {
          "base_uri": "https://localhost:8080/"
        },
        "id": "lVWv5Pkz6OuA",
        "outputId": "c6793420-0e98-48a4-a9ea-2813d61bfa87"
      },
      "outputs": [
        {
          "output_type": "stream",
          "name": "stderr",
          "text": [
            "/usr/local/lib/python3.7/dist-packages/sklearn/utils/validation.py:993: DataConversionWarning: A column-vector y was passed when a 1d array was expected. Please change the shape of y to (n_samples, ), for example using ravel().\n",
            "  y = column_or_1d(y, warn=True)\n"
          ]
        },
        {
          "output_type": "stream",
          "name": "stdout",
          "text": [
            "Testing accuracy = 0.9399825941312665\n",
            "Testing precision = 0.6470427163198248\n",
            "Testing recall = 0.1505670957053651\n",
            "Testing f1_score = 0.24428822495606328\n"
          ]
        }
      ],
      "source": [
        "from sklearn.linear_model import LogisticRegression\n",
        "from sklearn import metrics\n",
        "\n",
        "\n",
        "y_train=x_train[['stream_quality']]\n",
        "y_test=x_test[['stream_quality']]\n",
        "\n",
        "x_train=x_train.drop(['stream_quality'], axis = 1)\n",
        "x_test=x_test.drop(['stream_quality'], axis = 1)\n",
        "\n",
        "# fit Logistic Regression\n",
        "\n",
        "\n",
        "clf = LogisticRegression(random_state=0).fit(x_train, y_train)\n",
        "\n",
        "y_test_pred = clf.predict(x_test)\n",
        "\n",
        "# calculate metrics\n",
        "print('Testing accuracy = {}'.format(metrics.accuracy_score(y_test, y_test_pred)))\n",
        "print('Testing precision = {}'.format(metrics.precision_score(y_test, y_test_pred)))\n",
        "print('Testing recall = {}'.format(metrics.recall_score(y_test, y_test_pred)))\n",
        "print('Testing f1_score = {}'.format(metrics.f1_score(y_test, y_test_pred)))\n",
        "\n"
      ]
    },
    {
      "cell_type": "markdown",
      "metadata": {
        "id": "E_Np_qMCTA7u"
      },
      "source": [
        "### 2.4.2 Logistic Regression Coefficients"
      ]
    },
    {
      "cell_type": "code",
      "execution_count": 187,
      "metadata": {
        "colab": {
          "base_uri": "https://localhost:8080/"
        },
        "id": "mWWgDc4JmwgE",
        "outputId": "01f89b82-1977-4b24-9240-e488fbc9c4dc"
      },
      "outputs": [
        {
          "output_type": "stream",
          "name": "stdout",
          "text": [
            "----Logistic Regression Coefficients----\n",
            "('fps_std', 20.757274039126422)\n",
            "('fps_lags', 12.165337026449965)\n",
            "('dropped_frames_mean', -0.13217165405335024)\n",
            "('dropped_frames_std', -0.12128097461373955)\n",
            "('dropped_frames_max', -0.20024274464921066)\n",
            "('auto_bitrate_state_1', -0.25233192845336255)\n",
            "('auto_bitrate_state_2', -0.03884913292841765)\n",
            "('auto_bitrate_state_3', 0.03448740850838517)\n",
            "('auto_fec_state_1', 0.13247188569855883)\n",
            "('auto_fec_state_2', -0.38916553858504926)\n"
          ]
        }
      ],
      "source": [
        "# Logistic Regression Coefficients\n",
        "print(\"----Logistic Regression Coefficients----\")\n",
        "print(*[a for a in zip(list(x_train.columns), clf.coef_[0])], sep='\\n')"
      ]
    },
    {
      "cell_type": "markdown",
      "metadata": {
        "id": "HpN8AbSzTQJ3"
      },
      "source": [
        "###2.4.3 calculate metrics for each threshold"
      ]
    },
    {
      "cell_type": "code",
      "execution_count": 188,
      "metadata": {
        "colab": {
          "base_uri": "https://localhost:8080/",
          "height": 295
        },
        "id": "EQ0a9x6zm-RZ",
        "outputId": "afc5a9c1-ae08-4f38-d162-903bd1f1599c"
      },
      "outputs": [
        {
          "output_type": "display_data",
          "data": {
            "text/plain": [
              "<Figure size 432x288 with 1 Axes>"
            ],
            "image/png": "[encoded data removed]"
          },
          "metadata": {
            "needs_background": "light"
          }
        }
      ],
      "source": [
        "#calculate metrics for each threshold above and plot the result as below.\n",
        "thresholds = [0.1,0.2,0.3,0.4,0.5,0.6,0.7,0.8,0.9]\n",
        "pred_proba = clf.predict_proba(x_test)\n",
        "\n",
        "results = [[],[],[],[]]\n",
        "for i in thresholds:\n",
        "    y_test_pred_thr = np.where(pred_proba[:, 1] > i, 1, 0)\n",
        "    results[0].append(metrics.accuracy_score(y_test, y_test_pred_thr))\n",
        "    results[1].append(metrics.precision_score(y_test, y_test_pred_thr))\n",
        "    results[2].append(metrics.recall_score(y_test, y_test_pred_thr))\n",
        "    results[3].append(metrics.f1_score(y_test, y_test_pred_thr))\n",
        "\n",
        "plt.plot(thresholds, results[0], label = 'accuracy')   \n",
        "plt.plot(thresholds, results[1], label = 'precision')   \n",
        "plt.plot(thresholds, results[2], label = 'recall')\n",
        "plt.plot(thresholds, results[3], label = 'f1_score')\n",
        "\n",
        "plt.title('Threshold Selection')\n",
        "plt.xlabel('threshold')\n",
        "plt.ylabel('score')\n",
        "plt.legend()\n",
        "plt.grid()"
      ]
    },
    {
      "cell_type": "markdown",
      "metadata": {
        "id": "23mNMOmdTYEV"
      },
      "source": [
        "###2.4.5 Confusion Matrix"
      ]
    },
    {
      "cell_type": "code",
      "execution_count": 180,
      "metadata": {
        "colab": {
          "base_uri": "https://localhost:8080/",
          "height": 388
        },
        "id": "W2z8AJ8AnNIG",
        "outputId": "5c37231f-5c21-47c5-d0be-17d7d4cc8b12"
      },
      "outputs": [
        {
          "output_type": "stream",
          "name": "stdout",
          "text": [
            "sklearn Confusion Matrix for Sample set:\n",
            " [[183277  44625]\n",
            " [  6239   9455]]\n"
          ]
        },
        {
          "output_type": "stream",
          "name": "stderr",
          "text": [
            "/usr/local/lib/python3.7/dist-packages/sklearn/utils/deprecation.py:87: FutureWarning: Function plot_confusion_matrix is deprecated; Function `plot_confusion_matrix` is deprecated in 1.0 and will be removed in 1.2. Use one of the class methods: ConfusionMatrixDisplay.from_predictions or ConfusionMatrixDisplay.from_estimator.\n",
            "  warnings.warn(msg, category=FutureWarning)\n"
          ]
        },
        {
          "output_type": "display_data",
          "data": {
            "text/plain": [
              "<Figure size 432x288 with 2 Axes>"
            ],
            "image/png": "[encoded data removed]"
          },
          "metadata": {
            "needs_background": "light"
          }
        }
      ],
      "source": [
        "# Run this block of code to see what your result should look like\n",
        "from sklearn.metrics import confusion_matrix\n",
        "from sklearn.metrics import plot_confusion_matrix\n",
        "\n",
        "print('Confusion Matrix :\\n', confusion_matrix(y_test, y_test_pred))\n",
        "plot_confusion_matrix(clf, x_test, y_test)  \n",
        "plt.show()"
      ]
    }
  ],
  "metadata": {
    "colab": {
      "collapsed_sections": [],
      "toc_visible": true,
      "provenance": []
    },
    "kernelspec": {
      "display_name": "Python 3 (ipykernel)",
      "language": "python",
      "name": "python3"
    },
    "language_info": {
      "codemirror_mode": {
        "name": "ipython",
        "version": 3
      },
      "file_extension": ".py",
      "mimetype": "text/x-python",
      "name": "python",
      "nbconvert_exporter": "python",
      "pygments_lexer": "ipython3",
      "version": "3.8.10"
    }
  },
  "nbformat": 4,
  "nbformat_minor": 0
}